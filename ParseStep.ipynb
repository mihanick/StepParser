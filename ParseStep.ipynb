{
 "cells": [
  {
   "cell_type": "code",
   "execution_count": 16,
   "metadata": {},
   "outputs": [],
   "source": [
    "from StepParser import *\n",
    "import time"
   ]
  },
  {
   "cell_type": "code",
   "execution_count": 23,
   "metadata": {},
   "outputs": [
    {
     "name": "stdout",
     "output_type": "stream",
     "text": [
      "parsed in  682.519936800003\n"
     ]
    }
   ],
   "source": [
    "\n",
    "\n",
    "start = time.time()\n",
    "a = parse_file('test4.step')\n",
    "# print(a)\n",
    "print('parsed in ', time.time() - start)"
   ]
  },
  {
   "cell_type": "code",
   "execution_count": 24,
   "metadata": {},
   "outputs": [],
   "source": [
    "import pandas as pd\n",
    "\n"
   ]
  },
  {
   "cell_type": "code",
   "execution_count": 25,
   "metadata": {},
   "outputs": [
    {
     "data": {
      "text/html": [
       "<div>\n",
       "<style scoped>\n",
       "    .dataframe tbody tr th:only-of-type {\n",
       "        vertical-align: middle;\n",
       "    }\n",
       "\n",
       "    .dataframe tbody tr th {\n",
       "        vertical-align: top;\n",
       "    }\n",
       "\n",
       "    .dataframe thead th {\n",
       "        text-align: right;\n",
       "    }\n",
       "</style>\n",
       "<table border=\"1\" class=\"dataframe\">\n",
       "  <thead>\n",
       "    <tr style=\"text-align: right;\">\n",
       "      <th></th>\n",
       "      <th>0</th>\n",
       "    </tr>\n",
       "  </thead>\n",
       "  <tbody>\n",
       "    <tr>\n",
       "      <th>0</th>\n",
       "      <td>ISO-10303-21;</td>\n",
       "    </tr>\n",
       "    <tr>\n",
       "      <th>1</th>\n",
       "      <td>HEADER;</td>\n",
       "    </tr>\n",
       "    <tr>\n",
       "      <th>2</th>\n",
       "      <td>FILE_DESCRIPTION( ( '' ), ' ' );</td>\n",
       "    </tr>\n",
       "    <tr>\n",
       "      <th>3</th>\n",
       "      <td>FILE_NAME( '/vol/tmp/translate-811006385602690...</td>\n",
       "    </tr>\n",
       "    <tr>\n",
       "      <th>4</th>\n",
       "      <td>FILE_SCHEMA( ( 'AUTOMOTIVE_DESIGN { 1 0 10303 ...</td>\n",
       "    </tr>\n",
       "    <tr>\n",
       "      <th>...</th>\n",
       "      <td>...</td>\n",
       "    </tr>\n",
       "    <tr>\n",
       "      <th>4984732</th>\n",
       "      <td>DIRECTION( '', ( 0.309016994374950, -0.8074554...</td>\n",
       "    </tr>\n",
       "    <tr>\n",
       "      <th>4984733</th>\n",
       "      <td>DIRECTION( '', ( 1.37231112862213E-16, -0.5283...</td>\n",
       "    </tr>\n",
       "    <tr>\n",
       "      <th>4984734</th>\n",
       "      <td>DIRECTION( '', ( 0.00000000000000, 0.000000000...</td>\n",
       "    </tr>\n",
       "    <tr>\n",
       "      <th>4984735</th>\n",
       "      <td>ENDSEC;</td>\n",
       "    </tr>\n",
       "    <tr>\n",
       "      <th>4984736</th>\n",
       "      <td>END-ISO-10303-21;</td>\n",
       "    </tr>\n",
       "  </tbody>\n",
       "</table>\n",
       "<p>4984737 rows × 1 columns</p>\n",
       "</div>"
      ],
      "text/plain": [
       "                                                         0\n",
       "0                                            ISO-10303-21;\n",
       "1                                                  HEADER;\n",
       "2                         FILE_DESCRIPTION( ( '' ), ' ' );\n",
       "3        FILE_NAME( '/vol/tmp/translate-811006385602690...\n",
       "4        FILE_SCHEMA( ( 'AUTOMOTIVE_DESIGN { 1 0 10303 ...\n",
       "...                                                    ...\n",
       "4984732  DIRECTION( '', ( 0.309016994374950, -0.8074554...\n",
       "4984733  DIRECTION( '', ( 1.37231112862213E-16, -0.5283...\n",
       "4984734  DIRECTION( '', ( 0.00000000000000, 0.000000000...\n",
       "4984735                                            ENDSEC;\n",
       "4984736                                  END-ISO-10303-21;\n",
       "\n",
       "[4984737 rows x 1 columns]"
      ]
     },
     "execution_count": 25,
     "metadata": {},
     "output_type": "execute_result"
    }
   ],
   "source": [
    "d = pd.DataFrame(a)\n",
    "\n",
    "d\n"
   ]
  },
  {
   "cell_type": "code",
   "execution_count": null,
   "metadata": {},
   "outputs": [],
   "source": []
  }
 ],
 "metadata": {
  "kernelspec": {
   "display_name": "Python 3",
   "language": "python",
   "name": "python3"
  },
  "language_info": {
   "codemirror_mode": {
    "name": "ipython",
    "version": 3
   },
   "file_extension": ".py",
   "mimetype": "text/x-python",
   "name": "python",
   "nbconvert_exporter": "python",
   "pygments_lexer": "ipython3",
   "version": "3.7.6"
  }
 },
 "nbformat": 4,
 "nbformat_minor": 4
}
