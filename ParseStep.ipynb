{
 "cells": [
  {
   "cell_type": "code",
   "execution_count": 1,
   "metadata": {},
   "outputs": [],
   "source": [
    "from StepParser import *\n",
    "import time"
   ]
  },
  {
   "cell_type": "code",
   "execution_count": 2,
   "metadata": {},
   "outputs": [
    {
     "name": "stderr",
     "output_type": "stream",
     "text": [
      "2020-06-19 15:45:58,272\tINFO resource_spec.py:212 -- Starting Ray with 3.27 GiB memory available for workers and up to 1.65 GiB for objects. You can adjust these settings with ray.init(memory=<bytes>, object_store_memory=<bytes>).\n",
      "2020-06-19 15:45:58,632\tINFO services.py:1170 -- View the Ray dashboard at \u001b[1m\u001b[32mlocalhost:8266\u001b[39m\u001b[22m\n"
     ]
    },
    {
     "data": {
      "text/plain": [
       "{'node_ip_address': '172.29.121.196',\n",
       " 'raylet_ip_address': '172.29.121.196',\n",
       " 'redis_address': '172.29.121.196:15882',\n",
       " 'object_store_address': '/tmp/ray/session_2020-06-19_15-45-58_266540_13612/sockets/plasma_store',\n",
       " 'raylet_socket_name': '/tmp/ray/session_2020-06-19_15-45-58_266540_13612/sockets/raylet',\n",
       " 'webui_url': 'localhost:8266',\n",
       " 'session_dir': '/tmp/ray/session_2020-06-19_15-45-58_266540_13612'}"
      ]
     },
     "execution_count": 2,
     "metadata": {},
     "output_type": "execute_result"
    }
   ],
   "source": [
    "# https://towardsdatascience.com/10x-faster-parallel-python-without-python-multiprocessing-e5017c93cce1\n",
    "import psutil\n",
    "import ray\n",
    "import sys\n",
    "\n",
    "num_cpus = psutil.cpu_count(logical=False)\n",
    "\n",
    "ray.shutdown()\n",
    "ray.init(num_cpus = num_cpus)"
   ]
  },
  {
   "cell_type": "code",
   "execution_count": 3,
   "metadata": {},
   "outputs": [],
   "source": [
    "@ray.remote\n",
    "def parse_definition2(line):\n",
    "    return parse_definition(line)\n",
    "    \n",
    "def pool_parse_file1(filename):\n",
    "    result = []\n",
    "    block_size = 1024*8\n",
    "    remainder = ''\n",
    "    \n",
    "    with open(filename) as fp:\n",
    "        while True:\n",
    "            chunk = fp.read(block_size)\n",
    "            if not chunk:\n",
    "                break\n",
    "            v = remainder + chunk\n",
    "            lines = []\n",
    "            \n",
    "            for line in v.splitlines():\n",
    "                if line.rstrip().endswith(';'):\n",
    "                    remainder = ''\n",
    "                    lines.append(line)\n",
    "                else:\n",
    "                    remainder = line\n",
    "            result_ids = []\n",
    "            for line in lines:\n",
    "                result_ids.append(parse_definition2.remote(line))\n",
    "            results = ray.get(result_ids)\n",
    "            \n",
    "            result.extend(results)\n",
    "                \n",
    "    return result\n",
    "\n",
    "# print(pool_parse_file1('ar.ifc'))"
   ]
  },
  {
   "cell_type": "code",
   "execution_count": 4,
   "metadata": {},
   "outputs": [
    {
     "name": "stdout",
     "output_type": "stream",
     "text": [
      "parsed in  0.3702890872955322\n",
      "parsed parallel in  2.606706380844116\n"
     ]
    }
   ],
   "source": [
    "import time\n",
    "from StepParser import *\n",
    "import yaml\n",
    "\n",
    "start = time.time()\n",
    "a = parse_file('bolt.ifc')\n",
    "\n",
    "print('parsed in ', time.time() - start)\n",
    "\n",
    "start = time.time()\n",
    "a = pool_parse_file1('bolt.ifc')\n",
    "\n",
    "print('parsed parallel in ', time.time() - start)\n",
    "\n",
    "#with open('test3.yaml','w') as file:\n",
    "#    for aa in a:\n",
    "#       docs = yaml.dump(aa, file)\n"
   ]
  },
  {
   "cell_type": "code",
   "execution_count": 6,
   "metadata": {},
   "outputs": [
    {
     "data": {
      "text/html": [
       "<div>\n",
       "<style scoped>\n",
       "    .dataframe tbody tr th:only-of-type {\n",
       "        vertical-align: middle;\n",
       "    }\n",
       "\n",
       "    .dataframe tbody tr th {\n",
       "        vertical-align: top;\n",
       "    }\n",
       "\n",
       "    .dataframe thead th {\n",
       "        text-align: right;\n",
       "    }\n",
       "</style>\n",
       "<table border=\"1\" class=\"dataframe\">\n",
       "  <thead>\n",
       "    <tr style=\"text-align: right;\">\n",
       "      <th></th>\n",
       "      <th>0</th>\n",
       "    </tr>\n",
       "  </thead>\n",
       "  <tbody>\n",
       "    <tr>\n",
       "      <th>0</th>\n",
       "      <td>ISO-10303-21;</td>\n",
       "    </tr>\n",
       "    <tr>\n",
       "      <th>1</th>\n",
       "      <td>HEADER;</td>\n",
       "    </tr>\n",
       "    <tr>\n",
       "      <th>2</th>\n",
       "      <td>FILE_DESCRIPTION((''), '2;1');</td>\n",
       "    </tr>\n",
       "    <tr>\n",
       "      <th>3</th>\n",
       "      <td>FILE_NAME('D:\\KOSTA\\BIM_structures_Kosta\\Task_...</td>\n",
       "    </tr>\n",
       "    <tr>\n",
       "      <th>4</th>\n",
       "      <td>FILE_SCHEMA(('IFC2X3'));</td>\n",
       "    </tr>\n",
       "    <tr>\n",
       "      <th>...</th>\n",
       "      <td>...</td>\n",
       "    </tr>\n",
       "    <tr>\n",
       "      <th>1051</th>\n",
       "      <td>[1045] IFCRELAGGREGATES</td>\n",
       "    </tr>\n",
       "    <tr>\n",
       "      <th>1052</th>\n",
       "      <td>[1046] IFCRELCONTAINEDINSPATIALSTRUCTURE</td>\n",
       "    </tr>\n",
       "    <tr>\n",
       "      <th>1053</th>\n",
       "      <td>[1047] IFCRELDEFINESBYPROPERTIES</td>\n",
       "    </tr>\n",
       "    <tr>\n",
       "      <th>1054</th>\n",
       "      <td>ENDSEC;</td>\n",
       "    </tr>\n",
       "    <tr>\n",
       "      <th>1055</th>\n",
       "      <td>END-ISO-10303-21;</td>\n",
       "    </tr>\n",
       "  </tbody>\n",
       "</table>\n",
       "<p>1056 rows × 1 columns</p>\n",
       "</div>"
      ],
      "text/plain": [
       "                                                      0\n",
       "0                                         ISO-10303-21;\n",
       "1                                               HEADER;\n",
       "2                        FILE_DESCRIPTION((''), '2;1');\n",
       "3     FILE_NAME('D:\\KOSTA\\BIM_structures_Kosta\\Task_...\n",
       "4                              FILE_SCHEMA(('IFC2X3'));\n",
       "...                                                 ...\n",
       "1051                            [1045] IFCRELAGGREGATES\n",
       "1052           [1046] IFCRELCONTAINEDINSPATIALSTRUCTURE\n",
       "1053                   [1047] IFCRELDEFINESBYPROPERTIES\n",
       "1054                                            ENDSEC;\n",
       "1055                                  END-ISO-10303-21;\n",
       "\n",
       "[1056 rows x 1 columns]"
      ]
     },
     "execution_count": 6,
     "metadata": {},
     "output_type": "execute_result"
    }
   ],
   "source": [
    "d = pd.DataFrame(a)\n",
    "\n",
    "d\n"
   ]
  },
  {
   "cell_type": "code",
   "execution_count": null,
   "metadata": {},
   "outputs": [],
   "source": []
  }
 ],
 "metadata": {
  "kernelspec": {
   "display_name": "Python 3",
   "language": "python",
   "name": "python3"
  },
  "language_info": {
   "codemirror_mode": {
    "name": "ipython",
    "version": 3
   },
   "file_extension": ".py",
   "mimetype": "text/x-python",
   "name": "python",
   "nbconvert_exporter": "python",
   "pygments_lexer": "ipython3",
   "version": "3.7.6"
  }
 },
 "nbformat": 4,
 "nbformat_minor": 4
}
